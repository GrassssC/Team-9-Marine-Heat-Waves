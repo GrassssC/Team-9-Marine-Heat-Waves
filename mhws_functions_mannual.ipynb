{
 "cells": [
  {
   "cell_type": "markdown",
   "metadata": {},
   "source": [
    "This file explained how we used the file \"mhws_function.py\" in our project to detect MHWs happened in 4 boxes in Port Hacking Site and Rottnest Island Site. Data files used in this project are download from https://portal.aodn.org.au/ from 1992-03-21 to 2020-09-17 in 2 locations: -36.15 S to -32 S, 150 E to 154 E (Close to Sydney, Port Hacking Site) and -33 S to -30.5 S, 113 E to 115.8 E (close to Perth, Rottnest Island Site). A module about definition of MHWs is used in this project (https://github.com/ecjoliver/marineHeatWaves/blob/master/marineHeatWaves.py)."
   ]
  },
  {
   "cell_type": "markdown",
   "metadata": {},
   "source": [
    "Import the file \"mhws_functions.py\" used in this project."
   ]
  },
  {
   "cell_type": "code",
   "execution_count": 14,
   "metadata": {},
   "outputs": [],
   "source": [
    "import mhws_functions as mf\n",
    "import marineHeatWaves as mhw"
   ]
  },
  {
   "cell_type": "markdown",
   "metadata": {},
   "source": [
    "## Detect MHWs in the onshore box in Port Hacking Site"
   ]
  },
  {
   "cell_type": "markdown",
   "metadata": {},
   "source": [
    "Generate the inputs of MHWs detection function."
   ]
  },
  {
   "cell_type": "code",
   "execution_count": 2,
   "metadata": {},
   "outputs": [],
   "source": [
    "t1,temp1,n_good_ssts1 = mf.detect_input(\"Port_Hacking_data\",1,132,5)"
   ]
  },
  {
   "cell_type": "markdown",
   "metadata": {},
   "source": [
    "Detect MHWs in this box and make csv files for analysing and ploting by R. "
   ]
  },
  {
   "cell_type": "code",
   "execution_count": 24,
   "metadata": {
    "scrolled": false
   },
   "outputs": [],
   "source": [
    "mhws1,clim1 = mhw.detect(t1,temp1, maxPadLength=4)\n",
    "mf.write_mhw_analyse_csv(mhws1,\"Port_Hacking\")\n",
    "mf.write_mhwBlock_csv(t1,mhws1,1,\"Port_Hacking\")\n",
    "mf.write_mhwBlock_csv(t1,mhws1,3,\"Port_Hacking\")\n",
    "mf.write_mhwBlock_csv(t1,mhws1,9,\"Port_Hacking\")"
   ]
  },
  {
   "cell_type": "markdown",
   "metadata": {},
   "source": [
    "This prints the number of SSTs with a quality level of 3 or higher."
   ]
  },
  {
   "cell_type": "code",
   "execution_count": 17,
   "metadata": {},
   "outputs": [
    {
     "name": "stdout",
     "output_type": "stream",
     "text": [
      "5769\n"
     ]
    }
   ],
   "source": [
    "print(n_good_ssts1)"
   ]
  },
  {
   "cell_type": "markdown",
   "metadata": {},
   "source": [
    "This function counts the number of SSTs in the box. "
   ]
  },
  {
   "cell_type": "code",
   "execution_count": 18,
   "metadata": {},
   "outputs": [
    {
     "name": "stdout",
     "output_type": "stream",
     "text": [
      "6779\n"
     ]
    }
   ],
   "source": [
    "n_ssts1 = mf.sst_counter(temp1)\n",
    "print(n_ssts1)"
   ]
  },
  {
   "cell_type": "markdown",
   "metadata": {},
   "source": [
    "This function counted number of missing days and number of gaps in different types. Output of this function is used in the table \"Number of Gaps\"."
   ]
  },
  {
   "cell_type": "code",
   "execution_count": 10,
   "metadata": {},
   "outputs": [
    {
     "name": "stdout",
     "output_type": "stream",
     "text": [
      "Thera are 3082 days missing.\n",
      "There are 1669 gaps.\n",
      "The largest gap is 19 days\n",
      "There are 1318 with length 1 or 2 days.\n",
      "There are 266 with length 3 or 4 days.\n",
      "There are 85 with length >= 5 days.\n"
     ]
    }
   ],
   "source": [
    "mf.count_gap(temp1)"
   ]
  },
  {
   "cell_type": "markdown",
   "metadata": {},
   "source": [
    "## Then do the same thing for other boxes"
   ]
  },
  {
   "cell_type": "markdown",
   "metadata": {},
   "source": [
    "### Port Hacking Offshore Box"
   ]
  },
  {
   "cell_type": "code",
   "execution_count": 16,
   "metadata": {},
   "outputs": [],
   "source": [
    "t2,temp2,n_good_ssts2 = mf.detect_input(\"Port_Hacking_data\",201,195,5)"
   ]
  },
  {
   "cell_type": "code",
   "execution_count": 25,
   "metadata": {},
   "outputs": [],
   "source": [
    "mhws2,clim2 = mhw.detect(t2,temp2, maxPadLength=4)\n",
    "mf.write_mhw_analyse_csv(mhws2,\"Port_Hacking\",location_type=\"offshore\")\n",
    "mf.write_mhwBlock_csv(t2,mhws2,1,\"Port_Hacking\",location_type=\"offshore\")\n",
    "mf.write_mhwBlock_csv(t2,mhws2,3,\"Port_Hacking\",location_type=\"offshore\")\n",
    "mf.write_mhwBlock_csv(t2,mhws2,9,\"Port_Hacking\",location_type=\"offshore\")"
   ]
  },
  {
   "cell_type": "code",
   "execution_count": 21,
   "metadata": {},
   "outputs": [
    {
     "name": "stdout",
     "output_type": "stream",
     "text": [
      "4808\n"
     ]
    }
   ],
   "source": [
    "print(n_good_ssts2)"
   ]
  },
  {
   "cell_type": "code",
   "execution_count": 22,
   "metadata": {},
   "outputs": [
    {
     "name": "stdout",
     "output_type": "stream",
     "text": [
      "6536\n"
     ]
    }
   ],
   "source": [
    "n_ssts2 = mf.sst_counter(temp2)\n",
    "print(n_ssts2)"
   ]
  },
  {
   "cell_type": "code",
   "execution_count": 12,
   "metadata": {},
   "outputs": [
    {
     "name": "stdout",
     "output_type": "stream",
     "text": [
      "Thera are 3324 days missing.\n",
      "There are 1859 gaps.\n",
      "The largest gap is 21 days\n",
      "There are 1497 with length 1 or 2 days.\n",
      "There are 282 with length 3 or 4 days.\n",
      "There are 80 with length >= 5 days.\n"
     ]
    }
   ],
   "source": [
    "mf.count_gap(temp2)"
   ]
  },
  {
   "cell_type": "markdown",
   "metadata": {},
   "source": [
    "### Rottnest Island Onshore Box"
   ]
  },
  {
   "cell_type": "code",
   "execution_count": 26,
   "metadata": {},
   "outputs": [],
   "source": [
    "t3,temp3,n_good_ssts3 = mf.detect_input(\"Rottnest_Island_data\",90,125,5)"
   ]
  },
  {
   "cell_type": "code",
   "execution_count": 28,
   "metadata": {},
   "outputs": [],
   "source": [
    "mhws3,clim3 = mhw.detect(t3,temp3, maxPadLength=4)\n",
    "mf.write_mhw_analyse_csv(mhws3,\"Rottnest_Island\")\n",
    "mf.write_mhwBlock_csv(t3,mhws3,1,\"Rottnest_Island\")\n",
    "mf.write_mhwBlock_csv(t3,mhws3,3,\"Rottnest_Island\")\n",
    "mf.write_mhwBlock_csv(t3,mhws3,9,\"Rottnest_Island\")"
   ]
  },
  {
   "cell_type": "code",
   "execution_count": 30,
   "metadata": {},
   "outputs": [
    {
     "name": "stdout",
     "output_type": "stream",
     "text": [
      "6497\n"
     ]
    }
   ],
   "source": [
    "print(n_good_ssts3)"
   ]
  },
  {
   "cell_type": "code",
   "execution_count": 31,
   "metadata": {},
   "outputs": [
    {
     "name": "stdout",
     "output_type": "stream",
     "text": [
      "7653\n"
     ]
    }
   ],
   "source": [
    "n_ssts3 = mf.sst_counter(temp3)\n",
    "print(n_ssts3)"
   ]
  },
  {
   "cell_type": "code",
   "execution_count": 15,
   "metadata": {},
   "outputs": [
    {
     "name": "stdout",
     "output_type": "stream",
     "text": [
      "Thera are 2208 days missing.\n",
      "There are 1427 gaps.\n",
      "The largest gap is 17 days\n",
      "There are 1260 with length 1 or 2 days.\n",
      "There are 135 with length 3 or 4 days.\n",
      "There are 32 with length >= 5 days.\n"
     ]
    }
   ],
   "source": [
    "mf.count_gap(temp3)"
   ]
  },
  {
   "cell_type": "markdown",
   "metadata": {},
   "source": [
    "### Rottnest Island Offshore Box"
   ]
  },
  {
   "cell_type": "code",
   "execution_count": 32,
   "metadata": {},
   "outputs": [],
   "source": [
    "t4,temp4,n_good_ssts4 = mf.detect_input(\"Rottnest_Island_data\",0,25,5)"
   ]
  },
  {
   "cell_type": "code",
   "execution_count": 33,
   "metadata": {},
   "outputs": [],
   "source": [
    "mhws4,clim4 = mhw.detect(t4,temp4, maxPadLength=4)\n",
    "mf.write_mhw_analyse_csv(mhws4,\"Rottnest_Island\",location_type=\"offshore\")\n",
    "mf.write_mhwBlock_csv(t4,mhws4,1,\"Rottnest_Island\",location_type=\"offshore\")\n",
    "mf.write_mhwBlock_csv(t4,mhws4,3,\"Rottnest_Island\",location_type=\"offshore\")\n",
    "mf.write_mhwBlock_csv(t4,mhws4,9,\"Rottnest_Island\",location_type=\"offshore\")"
   ]
  },
  {
   "cell_type": "code",
   "execution_count": 34,
   "metadata": {},
   "outputs": [
    {
     "name": "stdout",
     "output_type": "stream",
     "text": [
      "5586\n"
     ]
    }
   ],
   "source": [
    "print(n_good_ssts4)"
   ]
  },
  {
   "cell_type": "code",
   "execution_count": 35,
   "metadata": {},
   "outputs": [
    {
     "name": "stdout",
     "output_type": "stream",
     "text": [
      "7116\n"
     ]
    }
   ],
   "source": [
    "n_ssts4 = mf.sst_counter(temp4)\n",
    "print(n_ssts4)"
   ]
  },
  {
   "cell_type": "code",
   "execution_count": 17,
   "metadata": {
    "scrolled": true
   },
   "outputs": [
    {
     "name": "stdout",
     "output_type": "stream",
     "text": [
      "Thera are 2745 days missing.\n",
      "There are 1639 gaps.\n",
      "The largest gap is 17 days\n",
      "There are 1382 with length 1 or 2 days.\n",
      "There are 212 with length 3 or 4 days.\n",
      "There are 45 with length >= 5 days.\n"
     ]
    }
   ],
   "source": [
    "mf.count_gap(temp4)"
   ]
  },
  {
   "cell_type": "markdown",
   "metadata": {},
   "source": [
    "## Use of other functions"
   ]
  },
  {
   "cell_type": "markdown",
   "metadata": {},
   "source": [
    "### 1. \"number_of_sst_map\""
   ]
  },
  {
   "cell_type": "markdown",
   "metadata": {},
   "source": [
    "This function is use to count number of SSTs in each Pixel and select boxes based on this."
   ]
  },
  {
   "cell_type": "code",
   "execution_count": 38,
   "metadata": {},
   "outputs": [],
   "source": [
    "# example\n",
    "mf.number_of_sst_map(\"A:/3001DATA/Port_Hacking/Port_Hacking_data\")"
   ]
  },
  {
   "cell_type": "markdown",
   "metadata": {},
   "source": [
    "### 2. \"detect_input_one_pixel\""
   ]
  },
  {
   "cell_type": "markdown",
   "metadata": {},
   "source": [
    "This function is use in chapter 3, Data Cleaning part. It detected MHWs happened in one pixel from 1993 to 2019."
   ]
  },
  {
   "cell_type": "code",
   "execution_count": null,
   "metadata": {},
   "outputs": [],
   "source": [
    "# example\n",
    "mhws,clim = detect_input_one_pixel(\"Port_Hacking_data\",1,132)"
   ]
  }
 ],
 "metadata": {
  "kernelspec": {
   "display_name": "Python 3",
   "language": "python",
   "name": "python3"
  },
  "language_info": {
   "codemirror_mode": {
    "name": "ipython",
    "version": 3
   },
   "file_extension": ".py",
   "mimetype": "text/x-python",
   "name": "python",
   "nbconvert_exporter": "python",
   "pygments_lexer": "ipython3",
   "version": "3.8.3"
  }
 },
 "nbformat": 4,
 "nbformat_minor": 4
}
